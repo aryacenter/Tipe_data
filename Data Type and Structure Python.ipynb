{
 "cells": [
  {
   "cell_type": "markdown",
   "id": "d324be6c",
   "metadata": {},
   "source": [
    "# Data Type and Structure\n",
    "### Batch 10 -  Dibimbing.id - Day 4\n",
    "\n",
    "| Date | Mentor |\n",
    "| -- | -- |\n",
    "| 2022-01-22 | Fiqry R |\n",
    "\n",
    "**Covered Topics**\n",
    "- Basic Syntax in Python\n",
    "- Data Type in Python\n",
    "- Data Structure in Python"
   ]
  },
  {
   "cell_type": "markdown",
   "id": "25e8453b",
   "metadata": {},
   "source": [
    "## 1. Basic Syntax in Python"
   ]
  },
  {
   "cell_type": "markdown",
   "id": "033241d2",
   "metadata": {},
   "source": [
    "fdsmfdskfmdskfds"
   ]
  },
  {
   "cell_type": "code",
   "execution_count": null,
   "id": "a49db677",
   "metadata": {},
   "outputs": [],
   "source": [
    "# Variable Assignment\n",
    "\n",
    "nama = \"lutfi\"\n",
    "ipk = 3.99\n",
    "\n",
    "nama"
   ]
  },
  {
   "cell_type": "code",
   "execution_count": null,
   "id": "e651808a",
   "metadata": {},
   "outputs": [],
   "source": [
    "# Print Function\n",
    "\n",
    "print(nama)"
   ]
  },
  {
   "cell_type": "code",
   "execution_count": null,
   "id": "186b2429",
   "metadata": {},
   "outputs": [],
   "source": [
    "# Print Function with multiple variables\n",
    "\n",
    "# in R\n",
    "# cat(nama, \" memiliki IPK sebesar\", ipk)\n",
    "\n",
    "print(nama, \"memiliki IPK sebesar\", ipk)"
   ]
  },
  {
   "cell_type": "code",
   "execution_count": null,
   "id": "3a23350b",
   "metadata": {},
   "outputs": [],
   "source": [
    "# Logical Operation (Numeric)\n",
    "\n",
    "nilai_lutfi = 80\n",
    "nilai_wildan = 79.99999\n",
    "\n",
    "nilai_lutfi == nilai_wildan"
   ]
  },
  {
   "cell_type": "code",
   "execution_count": null,
   "id": "41d82ffd",
   "metadata": {},
   "outputs": [],
   "source": [
    "# Logical Operation (String)\n",
    "\n",
    "saya = \"dobleh\"\n",
    "kabur = \"Dobleh\"\n",
    "\n",
    "# Apakah saya sama dengan kabur (beda huruf kapital saja, ngaruh ga ya?)\n",
    "saya == kabur"
   ]
  },
  {
   "cell_type": "code",
   "execution_count": null,
   "id": "011303e7",
   "metadata": {},
   "outputs": [],
   "source": [
    "# Conditional Statement\n",
    "\n",
    "# in R\n",
    "#\n",
    "# if (nilai >= 75) {\n",
    "#  hasil = \"lulus\"\n",
    "# } else { \n",
    "# hasil = \"tidak lulus\"\n",
    "# }\n",
    "\n",
    "nilai = 80\n",
    "\n",
    "if nilai >= 75:\n",
    "    hasil = \"lulus\"\n",
    "else:\n",
    "    hasil = \"tidak lulus\"\n",
    "    \n",
    "hasil"
   ]
  },
  {
   "cell_type": "code",
   "execution_count": null,
   "id": "0abb643b",
   "metadata": {},
   "outputs": [],
   "source": [
    "# Conditional Statement with Multiple IF\n",
    "\n",
    "# in R\n",
    "#\n",
    "# if (nilai >= 75) { hasil = \"lulus\" }\n",
    "# else if (nilai >= 50) { hasil = \"remedial\" }\n",
    "# else { hasil = \"tidak lulus\"}\n",
    "\n",
    "nilai = 65\n",
    "\n",
    "if nilai >= 75:\n",
    "    hasil = \"lulus\"\n",
    "elif nilai >= 50:\n",
    "    hasil = \"remedial\"\n",
    "else:\n",
    "    hasil = \"tidak lulus\"\n",
    "    \n",
    "hasil"
   ]
  },
  {
   "cell_type": "markdown",
   "id": "abc5b911",
   "metadata": {},
   "source": [
    "## 2. Data Type in Python"
   ]
  },
  {
   "cell_type": "markdown",
   "id": "de6fc403",
   "metadata": {},
   "source": [
    "<img src=\"https://miro.medium.com/max/746/0*iwq1pKSNK4wdrqFG.jpeg\">"
   ]
  },
  {
   "cell_type": "markdown",
   "id": "4674d9be",
   "metadata": {},
   "source": [
    "| Kategori | Tipe | Keterangan | Contoh Kode Python |\n",
    "| ----------- | ----------- | ----------- | ----------- |\n",
    "| Text | str | Menyatakan karakter/kalimat bisa berupa huruf angka, dll (diapit dengan \" atau ') | \"Python Lang\" |\n",
    "| Numeric | int | Menyatakan bilangan bulat | 11 atau 55 |\n",
    "| Numeric | float | Menyatakan bilangan yang mempunyai koma | 3.99 atau 3.24 |\n",
    "| Boolean | bool | Menyatakan benar True atau salah False | True atau False |"
   ]
  },
  {
   "cell_type": "code",
   "execution_count": null,
   "id": "7c98aebf",
   "metadata": {},
   "outputs": [],
   "source": [
    "# Numerical Variables\n",
    "\n",
    "nilai = 80\n",
    "ipk = 3.5\n",
    "\n",
    "print(nilai, ipk)"
   ]
  },
  {
   "cell_type": "markdown",
   "id": "200fa73f",
   "metadata": {},
   "source": [
    "### Numerical Operations\n",
    "\n",
    "| Simbol | Keterangan | Contoh Kode Python |\n",
    "| ----------- | ----------- | ----------- | \n",
    "| a + b | Pertambahan | 5 + 3 == 8 |\n",
    "| a - b | Pengurangan | 5 - 3 == 2 |\n",
    "| a * b | Perkalian | 5 * 3 == 15 |\n",
    "| a / b | Pembagian | 5 / 3 == 1.6667 |\n",
    "| a ** b | Pangkat | 5 ** 3 == 125 |\n",
    "| a // b | Pembagian tanpa Koma | 5 // 3 == 1 |\n",
    "| a % b | Modulo, Sisa Pembagian | 5 % 3 == 2 |"
   ]
  },
  {
   "cell_type": "code",
   "execution_count": null,
   "id": "17463f30",
   "metadata": {},
   "outputs": [],
   "source": [
    "# Try numerical operation\n",
    "\n",
    "saya = 2\n",
    "dobleh = 3\n",
    "jamal = 4\n",
    "kabur = 0.5\n",
    "\n",
    "print(saya * kabur)"
   ]
  },
  {
   "cell_type": "code",
   "execution_count": null,
   "id": "2e1a37a8",
   "metadata": {},
   "outputs": [],
   "source": [
    "# Challenge Time 1 (4 minutes)\n",
    "# Make a code to determine whether a variable is categorized as odd or even number\n",
    "# Use conditional statement as described before\n",
    "\n",
    "# Write your code below:\n"
   ]
  },
  {
   "cell_type": "code",
   "execution_count": null,
   "id": "3a4058d7",
   "metadata": {},
   "outputs": [],
   "source": [
    "# Challenge Time 2 (2 minutes)\n",
    "# Yi Sun Shin wants to buy Blade of Despair, which requires him to collect about 3010 golds.\n",
    "# Please help him to calculate how much gold is still needed if he wants to buy 4 of them,\n",
    "# while he holds only 2523 golds in his pocket.\n",
    "\n",
    "# Write your code below:\n"
   ]
  },
  {
   "cell_type": "markdown",
   "id": "4dc2ec73",
   "metadata": {},
   "source": [
    "### String Operations 1\n",
    "\n",
    "| Simbol | Keterangan | Contoh Kode Python |\n",
    "| ----------- | ----------- | ----------- | \n",
    "| a + b | Pertambahan | \"a\" + \"b\" == \"ab\" |\n",
    "| a + b | Pertambahan | \"1\" + \"1\" == \"11\" |\n",
    "| a * b | Perkalian | \"wk\" * 2 == \"wkwk\" | \n",
    "| a[start:end] | Irisan | \"abcd\"[1:3] == \"bc |\n",
    "| a[::-1] | Penulisan dibalik | \"abcd\"[::-1] == \"dcba\" |\n",
    "\n",
    "<center>Penulisan string di python bisa menggunakan '', atau \"\", atau juga \"\"\" \"\"\" untuk teks yang panjang</center>\n",
    "\n",
    "\n",
    "<p></p>\n",
    "<center>Tentang Index di String Python</center>\n",
    "\n",
    "| String | p | a | i | m | o | n |\n",
    "| -- | -- | -- | -- | -- | -- | -- | \n",
    "| Index | 0 | 1 | 2 | 3 | 4 | 5 |\n",
    "\n",
    "<p></p>\n",
    "<center>Untuk slicing rumusnya <b>variable</b>[index mulai:index akhir], cara baca <b>index akhir</b> ini selalu dikurangin 1. \n",
    "<p></p>    \n",
    "Misal index mulai 2, index akhir 5, artinya kita ngambil urutan dari 2 sampai sebelum 5, yaitu 4, jadinya kita dapatkan pada index <b>2,3,4</b></center>\n",
    "\n"
   ]
  },
  {
   "cell_type": "code",
   "execution_count": null,
   "id": "d29a5a87",
   "metadata": {},
   "outputs": [],
   "source": [
    "# Try string variable\n",
    "\n",
    "# Usage of \"\"\n",
    "statement = \"I cannot eat right now\"\n",
    "statement_equal = \"I can't eat right now\" # Use \"\" if you want (') inside your string\n",
    "\n",
    "# Usage of ''\n",
    "statement2 = 'He is also called miracle boy'\n",
    "statement2_equal = 'He is also called \"miracle boy\"' # Use '' if you want (\") inside your string\n",
    "\n",
    "# How about if we want to use both ' and \" inside our string?\n",
    "statement3 = \"\"\"I can't speak about the \"glory\" spell\"\"\"\n",
    "\n",
    "# As long as this is ASCII format, we are also able to type other languages\n",
    "statement4 = \"君の名は何ですか？\"\n",
    "statement5 = \"το όνομά μου είναι Ελισάβετ\"\n",
    "statement6 = \"이쁘시 네요\""
   ]
  },
  {
   "cell_type": "code",
   "execution_count": null,
   "id": "434e6e3a",
   "metadata": {},
   "outputs": [],
   "source": [
    "# Try string slicing operation\n",
    "\n",
    "nama = \"paimon\"\n",
    "# String = p | a | i | m | o | n\n",
    "# Index = 0 | 1 | 2 | 3 | 4 | 5\n",
    "\n",
    "# Start index is 2, end index is 5\n",
    "# Meaning that we take indices 2,3, and 4 (before 5)\n",
    "print(nama[2:5])\n",
    "\n",
    "# Start index is empty, end index is 3\n",
    "# Meaning that we take everything from beginning, ends at 2 (before 3)\n",
    "print(nama[:3])\n",
    "\n",
    "# Start index is 2, end index is empty\n",
    "# Meaning that we start from index 2, and take everything till the end \n",
    "print(nama[2:])\n",
    "\n",
    "# Reverse the string sequence\n",
    "print(nama[::-1])"
   ]
  },
  {
   "cell_type": "code",
   "execution_count": null,
   "id": "6a6d12ad",
   "metadata": {},
   "outputs": [],
   "source": [
    "# Challenge Time 3 (4 minutes)\n",
    "# Make a code to determine whether a string variable is palindrome* or not\n",
    "# Use conditional statement and string manipulation\n",
    "# * A palindrome is a word, number, phrase, or other sequence \n",
    "#   of characters which reads the same backward as forward, such as madam or racecar.\n",
    "\n",
    "\n",
    "# Write your code below:\n"
   ]
  },
  {
   "cell_type": "markdown",
   "id": "e5b826fe",
   "metadata": {},
   "source": [
    "### String Operations 2\n",
    "\n",
    "| Simbol | Keterangan | Contoh Kode Python |\n",
    "| ----------- | ----------- | ----------- | \n",
    "| a.upper() | Konversi menjadi huruf besar | \"saya\".upper() == \"SAYA\"\n",
    "| a.lower() | Konversi menjadi huruf kecil | \"KaMu\".lower() == \"kamu\"\n",
    "| a.isdigit() | Membaca apakah string ini angka atau bukan | \"5\".isdigit() == True\n",
    "| a.replace(before,after) | Mereplace string di variabel A berdasarkan before dan after | \"hai\".replace(\"ha\",\"wk\") == \"wki\"\n",
    "| a.split(b) | Pisahkan variabel A berdasarkan variabel B | \"aku,kamu,kita\".split(\",\") == [\"aku\", \"kamu\", \"kita\"]\n",
    "| sorted(a) | Mengurutkan variabel A secara ascending | sorted([1,5,2]) == [1,2,5] |\n",
    "\n",
    "\n",
    "<p></p>\n",
    "<center><a href=\"https://docs.python.org/3/library/stdtypes.html#string-methods\">\n",
    "    <button>Klik disini untuk String Manipulation Details</button>\n",
    "</a></center>"
   ]
  },
  {
   "cell_type": "code",
   "execution_count": null,
   "id": "009b6088",
   "metadata": {},
   "outputs": [],
   "source": [
    "# Try string operation 2\n",
    "\n",
    "waifu = \"sangonomiya kokomi\"\n",
    "\n",
    "# Split by empty space \" \"\n",
    "print(waifu.split(\" \"))\n",
    "\n",
    "# Replace full string\n",
    "print(waifu.replace(\"sangonomiya kokomi\", \"guinevere\"))"
   ]
  },
  {
   "cell_type": "markdown",
   "id": "9ab94478",
   "metadata": {},
   "source": [
    "### Logical Operation\n",
    "\n",
    "| X | Y | NOT X | X OR Y | X AND Y |\n",
    "| -- | -- | -- | -- | -- |\n",
    "| True | True | False | True | True |\n",
    "| True | False | False | True | False | \n",
    "| False | True | True | True | False |\n",
    "| False | False | True | False | False |\n",
    "\n",
    "Terkait penggunaan <b>and</b> dan <b>or</b>:\n",
    "1. <b>and</b>\n",
    "   - Mengembalikan hasil **True** apabila <u>X dan Y adalah **True**</u>\n",
    "   - Mengembalikan hasil **False** apabila <u>diantara X atau Y ada yang **False**</u>\n",
    "\n",
    "2. <b>or</b>\n",
    "   - Mengembalikan hasil **True** apabila <u>diantara X atau Y ada yang **True**</u>\n",
    "   - Mengembalikan hasil **False** apabila <u>X dan Y adalah **False**</u>\n",
    "   \n",
    "   \n",
    "<p></p>\n",
    "<center><a href=\"https://docs.python.org/3/library/stdtypes.html#comparisons\">\n",
    "    <button>Klik disini untuk Logical Manipulation Details</button>\n",
    "</a></center>"
   ]
  },
  {
   "cell_type": "code",
   "execution_count": null,
   "id": "43c589a4",
   "metadata": {},
   "outputs": [],
   "source": [
    "# Try logical operation\n",
    "\n",
    "x = True\n",
    "y = False\n",
    "\n",
    "print(x and y)\n",
    "print(x or y)\n",
    "\n",
    "z = ((x or y) or (y or y)) or y\n",
    "print(z)"
   ]
  },
  {
   "cell_type": "markdown",
   "id": "ce17b2af",
   "metadata": {},
   "source": [
    "## 3. Data Structure in Python\n",
    "\n",
    "| Kategori | Tipe | Keterangan | Contoh Kode Python |\n",
    "| ----------- | ----------- | ----------- | ----------- |\n",
    "| Sequence | list | Menyatakan beberapa untaian data dalam berbagai tipe data dan isinya bisa diubah-ubah (mutable) | [\"Air\", 21, True] |\n",
    "| Sequence | tuple | Menyatakan beberapa untaian data dalam berbagai tipe data namun isinya tidak bisa diubah-ubah (immutable) | (\"Air\", 21, True) |\n",
    "| Mapping | dict | Menyatakan beberapa untaian data dalam berbagai tipe data dan memiliki key/petujuntuk dalam menyimpan setiap nilai nya | {\"nama\":\"Lutfi\", \"umur\": 28} |\n",
    "| Set | set | Menyatakan beberapa untaian data dalam berbagai tipe data, setiap nilainya bernilai unik, dan tidak berurutan | {\"Jakarta\", \"Bandung\", \"Bekasi\"} |"
   ]
  },
  {
   "cell_type": "markdown",
   "id": "304ffb2a",
   "metadata": {},
   "source": [
    "### List in Python\n",
    "\n",
    "Sistem indexing nya sama dengan yang di string, dimulai dari indeks 0, dan bisa diisi oleh tipe data apapun\n",
    "\n",
    "<img src=\"https://pynative.com/wp-content/uploads/2021/03/python-list.jpg\">\n",
    "\n",
    "| Slicing | Makna |\n",
    "| --- | --- |\n",
    "| `[:]` | Mengambil seluruh index, tiada batasan |\n",
    "| `[n:]` | Mengambil dari index ke-n sampai index terakhir | \n",
    "| `[:m]` | Mengambil dari index pertama sampai index ke-m |\n",
    "| `[n:m]` | Mengambil dari index ke-n hingga index ke-m |\n",
    "| `[-1]` | Mengambil index terakhir |\n",
    "| `[:-1]` | Mengambil index dari pertama sampai sebelum terakhir (selain index -1)|\n",
    "| `[-1:]` | Mengambil index dari dari belakang (satu index)|"
   ]
  },
  {
   "cell_type": "code",
   "execution_count": null,
   "id": "257f5a3a",
   "metadata": {},
   "outputs": [],
   "source": [
    "# in R we could say this is a 'vector' \n",
    "# mydata = c(1,2,3,\"aha\",c(5,3,2))\n",
    "\n",
    "# in Python we called it as 'list'\n",
    "# mydata = [1,2,3,\"aha\",[5,3,2]]\n",
    "\n",
    "# Create an empty list\n",
    "listku  = []\n",
    "print(listku)\n",
    "\n",
    "# Alternative code\n",
    "listku = list()\n",
    "print(listku)"
   ]
  },
  {
   "cell_type": "code",
   "execution_count": null,
   "id": "31ba7bcb",
   "metadata": {},
   "outputs": [],
   "source": [
    "# First List Operation\n",
    "list_pertama = [1,2,3]\n",
    "\n",
    "print(\"Mengambil value urutan PERTAMA:\", list_pertama[0])   \n",
    "print(\"Mengambil value urutan KEDUA:\", list_pertama[1])  \n",
    "print(\"Mengambil value urutan KETIGA:\", list_pertama[2])   \n",
    "\n",
    "print(\"==== katanya biar ada pembatas diantara kita =====\")\n",
    "\n",
    "# Second List Operation\n",
    "list_kedua = [100,\"Katanya integer aja?\", True, 100.549373]\n",
    "print(\"Saya mau ambil urutan kedua:\", list_kedua[1])   \n",
    "print(\"Saya mau ambil urutan terakhir/keempat:\",list_kedua[3])"
   ]
  },
  {
   "cell_type": "code",
   "execution_count": null,
   "id": "50ecdf1f",
   "metadata": {},
   "outputs": [],
   "source": [
    "# Modify List Value\n",
    "mylist = [1,2,3,4,5]\n",
    "\n",
    "# Replace index 3 to 100\n",
    "mylist[3] = 100\n",
    "print(mylist)"
   ]
  },
  {
   "cell_type": "code",
   "execution_count": null,
   "id": "ef6ca418",
   "metadata": {},
   "outputs": [],
   "source": [
    "# Multiple Index is also allowed inside a list\n",
    "\n",
    "list_multiple = [\"bumi\",\"itu\",\"datar\",[\"bagi\",\"orang\",\"awam\"]]\n",
    "\n",
    "# Get \"orang\"\n",
    "list_multiple[3][1]"
   ]
  },
  {
   "cell_type": "markdown",
   "id": "f24ab6ed",
   "metadata": {},
   "source": [
    "Adapun index dengan dua tanda `:` seperti `[::]`, yaitu:\n",
    "\n",
    "<b> Double Slice Python </b>: \n",
    "`[start:end:step]`\n",
    "\n",
    "| Slicing | Makna |\n",
    "| --- | --- |\n",
    "| `[::]` | Mengambil seluruh index, tiada batasan |\n",
    "| `[n::]` | Mengambil dari index ke-n sampai index terakhir | \n",
    "| `[::o]` | Mengambil dari index pertama dengan lompat setiap o index |\n",
    "| `[n::o]` | Mengambil dari index ke-n dengan lompat setiap o index |\n",
    "| `[n:m:o]` | Mengambil dari index ke-n hingga ke-m, lompat setiap o index |\n",
    "| `[::-1]` | Mengambil seluruh value dengan mengurutkan dari belakang |"
   ]
  },
  {
   "cell_type": "code",
   "execution_count": null,
   "id": "76f1ba18",
   "metadata": {},
   "outputs": [],
   "source": [
    "# Try the double slice python\n",
    "bilangannya = [1,2,3,4,5,6,7,8,9,10]\n",
    "\n",
    "# Get all even numbers that is greater than 1 and lower than 10\n",
    "bilangannya[1:8:2]"
   ]
  },
  {
   "cell_type": "code",
   "execution_count": null,
   "id": "2c262c29",
   "metadata": {},
   "outputs": [],
   "source": [
    "# Challenge Time 4 (3 minutes)\n",
    "# Get all 9 values from this variable below:\n",
    "challenge_time_list = [1,2,3,[5,[8,3,[8,9,[8,9,10]]],7,[8,9,10]]]\n",
    "\n",
    "print(challenge_time_list) # First 9\n",
    "print(challenge_time_list) # Second 9\n",
    "print(challenge_time_list) # Third 9"
   ]
  },
  {
   "cell_type": "markdown",
   "id": "07c60035",
   "metadata": {},
   "source": [
    "### More Common List Functions\n",
    "\n",
    "| Fungsi | Deskripsi | Contoh | \n",
    "| --- | --- | -- |\n",
    "| len(x) | Menghitung jumlah objek didalam list | len([1,2,3]) == 3 |\n",
    "| sum(x) | Menghitung penjumlahan semua objek numerikal didalam list | sum([1,2,3]) == 6 |\n",
    "| x.append(y) | Menambah objek Y pada urutan terakhir kedalam list X | x.append(5) |\n",
    "| del x[y] | Menghapus indeks ke-y dalam list X | del x[5] |"
   ]
  },
  {
   "cell_type": "code",
   "execution_count": null,
   "id": "f1bce815",
   "metadata": {},
   "outputs": [],
   "source": [
    "# Common basic function in List\n",
    "listku = [1,2,3,4,5]\n",
    "\n",
    "# Calculate how many objects inside a list\n",
    "print(len(listku)) # length(listku)\n",
    "\n",
    "# Sum all the numerical values inside a list\n",
    "print(sum(listku)) # sum(listku)\n",
    "\n",
    "# Add new value to list\n",
    "listku.append(50) # We try to insert 50\n",
    "print(listku)\n",
    "\n",
    "# Delete an existing value\n",
    "del listku[3] # We try to delete 4\n",
    "print(listku)"
   ]
  },
  {
   "cell_type": "markdown",
   "id": "43ffc7f3",
   "metadata": {},
   "source": [
    "### Tuple in Python\n",
    "\n",
    "Sifatnya dengan list, namun bersifat **immutable** alias tidak bisa direplace valuenya dengan value baru, kemudian menggunakan **( )**. Namun, secara processing time lebih cepat daripada list.\n",
    "\n",
    "<img src=\"https://pynative.com/wp-content/uploads/2021/02/python-tuple.jpg\">"
   ]
  },
  {
   "cell_type": "code",
   "execution_count": null,
   "id": "5d07bf73",
   "metadata": {},
   "outputs": [],
   "source": [
    "%timeit [1,2,3]\n",
    "\n",
    "%timeit (1,2,3)"
   ]
  },
  {
   "cell_type": "code",
   "execution_count": null,
   "id": "48f03c93",
   "metadata": {},
   "outputs": [],
   "source": [
    "# Create a new tuple\n",
    "\n",
    "tupel = (1,5,10)\n",
    "print(type(tupel), tupel)"
   ]
  },
  {
   "cell_type": "code",
   "execution_count": null,
   "id": "a634f1eb",
   "metadata": {},
   "outputs": [],
   "source": [
    "# tuple is immutable\n",
    "\n",
    "tupel[1] = 100"
   ]
  },
  {
   "cell_type": "markdown",
   "id": "1e4f9649",
   "metadata": {},
   "source": [
    "### Set in Python\n",
    "\n",
    "Sifatnya dengan list, namun bersifat **unique** alias value didalam *set* akan bersifat unik/distinct, kemudian menggunakan **{ }**. Apabila digunakan kepada container data type, maka akan mengambil unique value dan sort secara ascending.\n",
    "\n",
    "<img src=\"https://pynative.com/wp-content/uploads/2021/03/python-sets.jpg\">"
   ]
  },
  {
   "cell_type": "code",
   "execution_count": null,
   "id": "59323b45",
   "metadata": {},
   "outputs": [],
   "source": [
    "# Create new set\n",
    "\n",
    "value_set = {5,43,2,1,6,2,3,1,6,3,6}\n",
    "print(value_set)"
   ]
  },
  {
   "cell_type": "code",
   "execution_count": null,
   "id": "916184e8",
   "metadata": {},
   "outputs": [],
   "source": [
    "# \"Hamid\" appears 2 times\n",
    "rekap_nama_siswa = [\"lutfi\",\"hamid\",\"lukman\",\"wildan\",\"monika\",\"hamid\",\"avroz\"]\n",
    "\n",
    "# Get unique only and sort in ascending:\n",
    "set(rekap_nama_siswa)"
   ]
  },
  {
   "cell_type": "markdown",
   "id": "cc68adde",
   "metadata": {},
   "source": [
    "### Dictionary in Python\n",
    "\n",
    "Struktur data yang menyerupai loker penyimpanan, setiap kotak diloker dapat diisi apapun tergantung kunci/penamaan yang digunakan (key and value). Tipe data ini sering digunakan untuk membuat tabel seperti tabel excel (kolom dan baris)\n",
    "\n",
    "<img src=\"https://pynative.com/wp-content/uploads/2021/02/dictionaries-in-python.jpg\">"
   ]
  },
  {
   "cell_type": "code",
   "execution_count": null,
   "id": "188ab8ea",
   "metadata": {},
   "outputs": [],
   "source": [
    "# Try dictionary\n",
    "data_siswa = {\"nama\": \"lutfi hamid\",\n",
    "              \"umur\": 28,\n",
    "              \"pekerjaan\": \"karyawan swasta\",\n",
    "              \"nilai\": [80,60,70]}\n",
    "\n",
    "print(data_siswa)"
   ]
  },
  {
   "cell_type": "code",
   "execution_count": null,
   "id": "72a3edfc",
   "metadata": {},
   "outputs": [],
   "source": [
    "# Get the name\n",
    "print(data_siswa[\"nama\"])\n",
    "\n",
    "# Modify the occupation to 'eSport Player'\n",
    "data_siswa[\"pekerjaan\"] = \"eSport Player\"\n",
    "print(data_siswa[\"pekerjaan\"])\n",
    "\n",
    "# Calculate the average score \n",
    "print(sum(data_siswa[\"nilai\"])/len(data_siswa[\"nilai\"]))\n",
    "\n",
    "# Print all keys and values\n",
    "print(\"Keys:\", data_siswa.keys())\n",
    "print(\"Values:\", data_siswa.values())"
   ]
  },
  {
   "cell_type": "code",
   "execution_count": null,
   "id": "ddfe52a7",
   "metadata": {},
   "outputs": [],
   "source": [
    "# Add a new key and value inside dictionary\n",
    "\n",
    "data_siswa[\"hobi\"] = \"ngebadut\"\n",
    "print(data_siswa)\n",
    "\n",
    "# Delete an existing key inside dictionary\n",
    "del data_siswa[\"nilai\"]\n",
    "print(data_siswa)"
   ]
  },
  {
   "cell_type": "markdown",
   "id": "785b6cdd",
   "metadata": {},
   "source": [
    "# Terimakasih!\n",
    "\n",
    "**Jangan lupa ada PR**"
   ]
  }
 ],
 "metadata": {
  "kernelspec": {
   "display_name": "Python 3 (ipykernel)",
   "language": "python",
   "name": "python3"
  },
  "language_info": {
   "codemirror_mode": {
    "name": "ipython",
    "version": 3
   },
   "file_extension": ".py",
   "mimetype": "text/x-python",
   "name": "python",
   "nbconvert_exporter": "python",
   "pygments_lexer": "ipython3",
   "version": "3.9.7"
  }
 },
 "nbformat": 4,
 "nbformat_minor": 5
}
